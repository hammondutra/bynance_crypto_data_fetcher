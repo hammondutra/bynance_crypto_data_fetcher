{
 "cells": [
  {
   "cell_type": "markdown",
   "id": "773ad611",
   "metadata": {},
   "source": [
    "## Fetching Real-Time Crypto Data with Binance API\n",
    "\n",
    "This notebook demonstrates how to connect to the Binance WebSocket API to stream real-time pricing data for multiple cryptocurrencies. We will use `websockets` to establish the connection and `pandas` to structure the incoming data.\n",
    "\n",
    "---\n",
    "\n",
    "### 1. Imports and Setup\n",
    "\n",
    "First, we import the necessary libraries:\n",
    "* `json`: To parse the incoming data from the API, which is in JSON format.\n",
    "* `websocket`: To connect to the Binance WebSocket stream.\n",
    "* `pandas`: To process and display the data in a structured DataFrame.\n",
    "\n",
    "```python\n",
    "import json\n",
    "import websocket\n",
    "import pandas as pd\n",
    "```\n",
    "\n",
    "---\n",
    "\n",
    "### 2. Configuring the API Stream\n",
    "\n",
    "We define the assets we want to track (**BTC**, **ETH**, and **SOL**) and format them according to the Binance API's requirements for 1-minute candlestick (`kline_1m`) data streams.\n",
    "\n",
    "```python\n",
    "assets = [\"BTCUSDT\", \"ETHUSDT\", \"SOLUSDT\"]\n",
    "assets = [coin.lower() + \"@kline_1m\" for coin in assets]\n",
    "```\n",
    "\n",
    "Next, we join these individual stream names into a single string, separated by `/`, to subscribe to all of them in one connection.\n",
    "\n",
    "```python\n",
    "assets = '/'.join(assets)\n",
    "socket = \"wss://[stream.binance.com:9443/stream?streams=](https://stream.binance.com:9443/stream?streams=)\"+assets\n",
    "```\n",
    "The final `socket` URL looks like this: `wss://stream.binance.com:9443/stream?streams=btcusdt@kline_1m/ethusdt@kline_1m/solusdt@kline_1m`\n",
    "\n",
    "---\n",
    "\n",
    "### 3. Processing Incoming Data\n",
    "\n",
    "We define two functions to handle the data as it arrives from the WebSocket.\n",
    "\n",
    "1.  `on_message(ws, message)`: This is a **callback function** that automatically runs every time a new message is received from the server. It loads the JSON message and passes it to our `manipulation` function.\n",
    "\n",
    "2.  `manipulation(source)`: This function does the heavy lifting. It parses the raw data to extract the most relevant information:\n",
    "    * The **closing price** (`['data']['k']['c']`)\n",
    "    * The **event timestamp** (`['data']['E']`)\n",
    "    * The **asset symbol** (`['data']['s']`)\n",
    "\n",
    "    It then organizes this information into a clean pandas DataFrame and prints it.\n",
    "\n",
    "```python\n",
    "def on_message(we, message):\n",
    "    message = json.loads(message)\n",
    "    manipulation(message)\n",
    "\n",
    "def manipulation(source):\n",
    "    rel_data = source['data']['k']['c']\n",
    "    evt_time = pd.to_datetime(source['data']['E'], unit='ms')\n",
    "    df = pd.DataFrame(rel_data, columns=[source['data']['s']], index=[evt_time])\n",
    "\n",
    "    df.index.name = 'timestamp'\n",
    "    df = df.astype(float)\n",
    "    df = df.reset_index()\n",
    "    print(df)\n",
    "    return df\n",
    "```\n",
    "\n",
    "---\n",
    "\n",
    "### 4. Running the Connection\n",
    "\n",
    "Finally, we create a `WebSocketApp` instance, passing our connection `socket` and the `on_message` function. The `run_forever()` method starts the client, which will continuously listen for messages and print the processed dataframes in real-time until the script is stopped.\n",
    "\n",
    "```python\n",
    "ws = websocket.WebSocketApp(socket, on_message = on_message)\n",
    "ws.run_forever()\n",
    "```"
   ]
  },
  {
   "cell_type": "code",
   "execution_count": 86,
   "id": "5716ac96",
   "metadata": {},
   "outputs": [],
   "source": [
    "# Importing Libraries\n",
    "\n",
    "import json\n",
    "import websocket\n",
    "import pandas as pd\n"
   ]
  },
  {
   "cell_type": "code",
   "execution_count": 87,
   "id": "75b11ae5",
   "metadata": {},
   "outputs": [],
   "source": [
    "def on_message(we, message):\n",
    "    message = json.loads(message)\n",
    "    manipulation(message)\n",
    "\n",
    "\n",
    "def manipulation(source):\n",
    "    rel_data = source['data']['k']['c']\n",
    "    evt_time = pd.to_datetime(source['data']['E'], unit='ms')\n",
    "    df = pd.DataFrame(rel_data, columns=[source['data']['s']], index=[evt_time])\n",
    "\n",
    "    df.index.name = 'timestamp'\n",
    "    df = df.astype(float)\n",
    "    df = df.reset_index()\n",
    "    print(df)\n",
    "    return df\n",
    "\n",
    "assets = [\"BTCUSDT\", \"ETHUSDT\", \"SOLUSDT\"]\n",
    "\n",
    "assets = [coin.lower() + \"@kline_1m\" for coin in assets]\n",
    "assets = '/'.join(assets)\n",
    "\n",
    "socket = \"wss://stream.binance.com:9443/stream?streams=\"+assets"
   ]
  },
  {
   "cell_type": "code",
   "execution_count": 88,
   "id": "ad5cc966",
   "metadata": {},
   "outputs": [
    {
     "data": {
      "text/plain": [
       "{'stream': 'solusdt@kline_1m',\n",
       " 'data': {'e': 'kline',\n",
       "  'E': 1760311760799,\n",
       "  's': 'SOLUSDT',\n",
       "  'k': {'t': 1760311740000,\n",
       "   'T': 1760311799999,\n",
       "   's': 'SOLUSDT',\n",
       "   'i': '1m',\n",
       "   'f': 1624851904,\n",
       "   'L': 1624852314,\n",
       "   'o': '196.25000000',\n",
       "   'c': '196.21000000',\n",
       "   'h': '196.26000000',\n",
       "   'l': '196.12000000',\n",
       "   'v': '224.38400000',\n",
       "   'n': 411,\n",
       "   'x': False,\n",
       "   'q': '44023.53288000',\n",
       "   'V': '86.08400000',\n",
       "   'Q': '16888.60390000',\n",
       "   'B': '0'}}}"
      ]
     },
     "execution_count": 88,
     "metadata": {},
     "output_type": "execute_result"
    }
   ],
   "source": [
    "# Displays the source\n",
    "\n",
    "source"
   ]
  },
  {
   "cell_type": "code",
   "execution_count": 89,
   "id": "fad55e21",
   "metadata": {},
   "outputs": [
    {
     "name": "stdout",
     "output_type": "stream",
     "text": [
      "                timestamp  SOLUSDT\n",
      "0 2025-10-13 00:34:04.803   196.99\n",
      "                timestamp    BTCUSDT\n",
      "0 2025-10-13 00:34:06.029  115118.35\n",
      "                timestamp  ETHUSDT\n",
      "0 2025-10-13 00:34:06.029  4143.16\n",
      "                timestamp  SOLUSDT\n",
      "0 2025-10-13 00:34:06.803    197.0\n",
      "                timestamp    BTCUSDT\n",
      "0 2025-10-13 00:34:08.018  115116.95\n",
      "                timestamp  ETHUSDT\n",
      "0 2025-10-13 00:34:08.018  4142.74\n",
      "                timestamp  SOLUSDT\n",
      "0 2025-10-13 00:34:08.796   197.01\n"
     ]
    },
    {
     "data": {
      "text/plain": [
       "True"
      ]
     },
     "execution_count": 89,
     "metadata": {},
     "output_type": "execute_result"
    }
   ],
   "source": [
    "# Executes the web socket\n",
    "\n",
    "ws = websocket.WebSocketApp(socket, on_message = on_message)\n",
    "ws.run_forever()"
   ]
  }
 ],
 "metadata": {
  "kernelspec": {
   "display_name": ".venv",
   "language": "python",
   "name": "python3"
  },
  "language_info": {
   "codemirror_mode": {
    "name": "ipython",
    "version": 3
   },
   "file_extension": ".py",
   "mimetype": "text/x-python",
   "name": "python",
   "nbconvert_exporter": "python",
   "pygments_lexer": "ipython3",
   "version": "3.12.8"
  }
 },
 "nbformat": 4,
 "nbformat_minor": 5
}
